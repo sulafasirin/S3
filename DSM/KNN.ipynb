{
 "cells": [
  {
   "cell_type": "code",
   "execution_count": 1,
   "id": "c79fbfac",
   "metadata": {},
   "outputs": [],
   "source": [
    "from sklearn.model_selection import train_test_split\n",
    "from sklearn.neighbors import KNeighborsClassifier\n",
    "from sklearn.metrics import accuracy_score\n"
   ]
  },
  {
   "cell_type": "code",
   "execution_count": 2,
   "id": "31f2bcbf",
   "metadata": {},
   "outputs": [],
   "source": [
    "X = [\n",
    "    [2, 9],  # studied 2 hrs, slept 9 hrs -> Fail\n",
    "    [1, 6],\n",
    "    [3, 7],\n",
    "    [5, 5],\n",
    "    [6, 6],\n",
    "    [7, 3],\n",
    "    [8, 4],\n",
    "    [9, 2]\n",
    "]\n",
    "y = [0, 0, 0, 1, 1, 1, 1, 1]"
   ]
  },
  {
   "cell_type": "code",
   "execution_count": 3,
   "id": "f8518edb",
   "metadata": {},
   "outputs": [],
   "source": [
    "X_train, X_test, y_train, y_test = train_test_split(X, y, test_size=0.25, random_state=42)"
   ]
  },
  {
   "cell_type": "code",
   "execution_count": 4,
   "id": "25dbf10d",
   "metadata": {},
   "outputs": [
    {
     "data": {
      "text/plain": [
       "KNeighborsClassifier(n_neighbors=3)"
      ]
     },
     "execution_count": 4,
     "metadata": {},
     "output_type": "execute_result"
    }
   ],
   "source": [
    "\n",
    "knn = KNeighborsClassifier(n_neighbors=3)\n",
    "knn.fit(X_train, y_train)"
   ]
  },
  {
   "cell_type": "code",
   "execution_count": 5,
   "id": "aaf402e6",
   "metadata": {},
   "outputs": [
    {
     "name": "stdout",
     "output_type": "stream",
     "text": [
      "Accuracy: 1.0\n"
     ]
    }
   ],
   "source": [
    "y_pred = knn.predict(X_test)\n",
    "print(\"Accuracy:\", accuracy_score(y_test, y_pred))"
   ]
  },
  {
   "cell_type": "code",
   "execution_count": 11,
   "id": "a7543528",
   "metadata": {},
   "outputs": [
    {
     "name": "stdout",
     "output_type": "stream",
     "text": [
      "Prediction for new student: Fail\n"
     ]
    }
   ],
   "source": [
    "new_student = [[4, 8]]  # 4 hrs study, 8 hrs sleep\n",
    "prediction = knn.predict(new_student)\n",
    "print(\"Prediction for new student:\", \"Pass\" if prediction[0] == 1 else \"Fail\")"
   ]
  },
  {
   "cell_type": "code",
   "execution_count": 12,
   "id": "4690f110",
   "metadata": {},
   "outputs": [
    {
     "data": {
      "image/png": "[encoded data removed]",
      "text/plain": [
       "<Figure size 432x288 with 1 Axes>"
      ]
     },
     "metadata": {
      "needs_background": "light"
     },
     "output_type": "display_data"
    }
   ],
   "source": [
    "import matplotlib.pyplot as plt\n",
    "\n",
    "# Plot existing students\n",
    "for i, label in enumerate(y):\n",
    "    if label == 0:\n",
    "        plt.scatter(X[i][0], X[i][1], color=\"red\", marker=\"o\", label=\"Fail\" if i==0 else \"\")\n",
    "    else:\n",
    "        plt.scatter(X[i][0], X[i][1], color=\"green\", marker=\"^\", label=\"Pass\" if i==3 else \"\")\n",
    "\n",
    "# Plot new student\n",
    "plt.scatter(new_student[0][0], new_student[0][1], color=\"blue\", marker=\"*\", s=200, label=\"New Student\")\n",
    "\n",
    "# Labels and display\n",
    "plt.xlabel(\"Study Hours\")\n",
    "plt.ylabel(\"Sleep Hours\")\n",
    "plt.title(\"Pass vs Fail (k-NN)\")\n",
    "plt.legend()\n",
    "plt.grid(True)\n",
    "plt.show()"
   ]
  },
  {
   "cell_type": "code",
   "execution_count": 2,
   "id": "c05c54b1",
   "metadata": {},
   "outputs": [],
   "source": [
    "from sklearn.model_selection import train_test_split\n",
    "from sklearn.neighbors import KNeighborsClassifier\n",
    "from sklearn.metrics import accuracy_score\n",
    "import matplotlib.pyplot as plt\n"
   ]
  },
  {
   "cell_type": "code",
   "execution_count": 6,
   "id": "e36232f5",
   "metadata": {},
   "outputs": [],
   "source": [
    "X = [\n",
    "    [8,5], #grape\n",
    "    [3,7], #green beans\n",
    "    [3,6], #nuts\n",
    "    [7,3] #orange\n",
    "]\n",
    "# fruit = 0, vegetable = 1, protein = 2\n",
    "y = [0, 1, 2, 0]\n",
    "\n"
   ]
  },
  {
   "cell_type": "code",
   "execution_count": 7,
   "id": "e9ee0c0b",
   "metadata": {},
   "outputs": [],
   "source": [
    "X_train, X_test, y_train, y_test = train_test_split(X, y, test_size=0.25, random_state=42)\n"
   ]
  },
  {
   "cell_type": "code",
   "execution_count": 8,
   "id": "b059e484",
   "metadata": {},
   "outputs": [
    {
     "data": {
      "text/plain": [
       "KNeighborsClassifier(n_neighbors=3)"
      ]
     },
     "execution_count": 8,
     "metadata": {},
     "output_type": "execute_result"
    }
   ],
   "source": [
    "knn=KNeighborsClassifier(n_neighbors=3)\n",
    "knn.fit(X_train,y_train)"
   ]
  },
  {
   "cell_type": "code",
   "execution_count": 15,
   "id": "2ccd209a",
   "metadata": {},
   "outputs": [
    {
     "name": "stdout",
     "output_type": "stream",
     "text": [
      "[0]\n",
      "fruit\n",
      "0.0\n"
     ]
    }
   ],
   "source": [
    "pred=knn.predict(X_test)\n",
    "print(pred)\n",
    "if pred==0:\n",
    "    print(\"fruit\")\n",
    "else:\n",
    "    print(\"veg\")\n",
    "accuracy=accuracy_score(y_test,pred)\n",
    "print(accuracy)"
   ]
  },
  {
   "cell_type": "code",
   "execution_count": null,
   "id": "2d9712cf",
   "metadata": {},
   "outputs": [],
   "source": []
  }
 ],
 "metadata": {
  "kernelspec": {
   "display_name": "Python 3 (ipykernel)",
   "language": "python",
   "name": "python3"
  },
  "language_info": {
   "codemirror_mode": {
    "name": "ipython",
    "version": 3
   },
   "file_extension": ".py",
   "mimetype": "text/x-python",
   "name": "python",
   "nbconvert_exporter": "python",
   "pygments_lexer": "ipython3",
   "version": "3.9.7"
  }
 },
 "nbformat": 4,
 "nbformat_minor": 5
}
