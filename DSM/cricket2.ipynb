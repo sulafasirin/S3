{
 "cells": [
  {
   "cell_type": "code",
   "execution_count": 8,
   "id": "22fa8863",
   "metadata": {},
   "outputs": [
    {
     "name": "stdout",
     "output_type": "stream",
     "text": [
      "KNN Test Accuracy: 35.16%\n",
      "Predicted Winner for sample match: Royal Challengers Bangalore\n"
     ]
    }
   ],
   "source": [
    "import pandas as pd\n",
    "from sklearn.model_selection import train_test_split\n",
    "from sklearn.neighbors import KNeighborsClassifier\n",
    "from sklearn.metrics import accuracy_score\n",
    "from sklearn.preprocessing import LabelEncoder\n",
    "\n",
    "# Load dataset\n",
    "data = pd.read_csv(\"matches.csv\")  # Update path if needed\n",
    "\n",
    "# Select relevant features\n",
    "X = data[[\"season\", \"city\", \"toss_winner\", \"toss_decision\", \"team1\", \"team2\"]].copy()\n",
    "y = data[\"winner\"]\n",
    "\n",
    "# Encode categorical columns in X using separate encoders\n",
    "encoders_X = {}\n",
    "for col in X.columns:\n",
    "    if X[col].dtype == \"object\":\n",
    "        le = LabelEncoder()\n",
    "        X[col] = le.fit_transform(X[col].astype(str))\n",
    "        encoders_X[col] = le  # Save encoder if you want to inverse-transform later\n",
    "\n",
    "# Encode target column y separately\n",
    "le_y = LabelEncoder()\n",
    "y = le_y.fit_transform(y.astype(str))\n",
    "\n",
    "# Split into training and testing sets\n",
    "X_train, X_test, y_train, y_test = train_test_split(\n",
    "    X, y, test_size=0.2, random_state=42\n",
    ")\n",
    "\n",
    "# Build KNN model\n",
    "k = 5\n",
    "knn = KNeighborsClassifier(n_neighbors=k)\n",
    "knn.fit(X_train, y_train)\n",
    "\n",
    "# Predict on test set\n",
    "y_pred = knn.predict(X_test)\n",
    "accuracy = accuracy_score(y_test, y_pred)\n",
    "print(f\"KNN Test Accuracy: {accuracy*100:.2f}%\")\n",
    "\n",
    "# Predict a new sample match\n",
    "# Example values (season, city, toss_winner, toss_decision, team1, team2)\n",
    "# Make sure to encode them using the same LabelEncoders\n",
    "sample = [[2017, 5, 8, 2, 11, 12]]  # numbers are pre-encoded\n",
    "prediction_encoded = knn.predict(sample)[0]\n",
    "\n",
    "# Convert prediction back to original team name\n",
    "prediction_team = le_y.inverse_transform([prediction_encoded])[0]\n",
    "print(\"Predicted Winner for sample match:\", prediction_team)\n"
   ]
  },
  {
   "cell_type": "code",
   "execution_count": null,
   "id": "f682c27f",
   "metadata": {},
   "outputs": [],
   "source": []
  }
 ],
 "metadata": {
  "kernelspec": {
   "display_name": "Python 3 (ipykernel)",
   "language": "python",
   "name": "python3"
  },
  "language_info": {
   "codemirror_mode": {
    "name": "ipython",
    "version": 3
   },
   "file_extension": ".py",
   "mimetype": "text/x-python",
   "name": "python",
   "nbconvert_exporter": "python",
   "pygments_lexer": "ipython3",
   "version": "3.9.7"
  }
 },
 "nbformat": 4,
 "nbformat_minor": 5
}
