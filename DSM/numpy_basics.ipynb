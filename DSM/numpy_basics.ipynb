{
  "metadata": {
    "kernelspec": {
      "name": "xpython",
      "display_name": "Python 3.13 (XPython)",
      "language": "python"
    },
    "language_info": {
      "file_extension": ".py",
      "mimetype": "text/x-python",
      "name": "python",
      "version": "3.13.1"
    }
  },
  "nbformat_minor": 5,
  "nbformat": 4,
  "cells": [
    {
      "id": "bbf9b399-0081-4841-81ab-2e5632868246",
      "cell_type": "code",
      "source": "print(\"hello\")\n",
      "metadata": {
        "trusted": true
      },
      "outputs": [
        {
          "name": "stdout",
          "output_type": "stream",
          "text": "hello\n"
        }
      ],
      "execution_count": 1
    },
    {
      "id": "c9d95a7d-121c-4a04-8bf1-6cc2f411c0dd",
      "cell_type": "code",
      "source": "import numpy as np",
      "metadata": {
        "trusted": true
      },
      "outputs": [],
      "execution_count": 2
    },
    {
      "id": "99e7a308-9407-4b57-913a-51eb38611d98",
      "cell_type": "code",
      "source": "a=np.array([1,2,3])",
      "metadata": {
        "trusted": true
      },
      "outputs": [],
      "execution_count": 3
    },
    {
      "id": "ea2c7b1c-be23-419a-a396-3eeba60c47e4",
      "cell_type": "code",
      "source": "a",
      "metadata": {
        "trusted": true
      },
      "outputs": [
        {
          "execution_count": 4,
          "output_type": "execute_result",
          "data": {
            "text/plain": "array([1, 2, 3])"
          },
          "metadata": {}
        }
      ],
      "execution_count": 4
    },
    {
      "id": "b4bb1287-b902-44ba-aa86-bf5e45067952",
      "cell_type": "code",
      "source": "z=np.zeros((2,3))",
      "metadata": {
        "trusted": true
      },
      "outputs": [],
      "execution_count": 5
    },
    {
      "id": "2a2a1a37-5ee4-4914-9ae7-98a04f2c305a",
      "cell_type": "code",
      "source": "z",
      "metadata": {
        "trusted": true
      },
      "outputs": [
        {
          "execution_count": 6,
          "output_type": "execute_result",
          "data": {
            "text/plain": "array([[0., 0., 0.],\n       [0., 0., 0.]])"
          },
          "metadata": {}
        }
      ],
      "execution_count": 6
    },
    {
      "id": "c597abd0-e172-44ea-a87a-3e45e9029e63",
      "cell_type": "code",
      "source": "r=np.arange(0,10,2)",
      "metadata": {
        "trusted": true
      },
      "outputs": [],
      "execution_count": 7
    },
    {
      "id": "52edc0ad-1a70-4caa-87ea-ca795d1bdf4b",
      "cell_type": "code",
      "source": "r",
      "metadata": {
        "trusted": true
      },
      "outputs": [
        {
          "execution_count": 8,
          "output_type": "execute_result",
          "data": {
            "text/plain": "array([0, 2, 4, 6, 8])"
          },
          "metadata": {}
        }
      ],
      "execution_count": 8
    },
    {
      "id": "f05386e4-320b-4d52-9f1b-7bb41e2de4a8",
      "cell_type": "code",
      "source": "b=np.array([4,5,6])",
      "metadata": {
        "trusted": true
      },
      "outputs": [],
      "execution_count": 9
    },
    {
      "id": "e483fdb7-a8ad-492b-a7b4-67a98a5df494",
      "cell_type": "code",
      "source": "a+b",
      "metadata": {
        "trusted": true
      },
      "outputs": [
        {
          "execution_count": 10,
          "output_type": "execute_result",
          "data": {
            "text/plain": "array([5, 7, 9])"
          },
          "metadata": {}
        }
      ],
      "execution_count": 10
    },
    {
      "id": "dffc992b-a4c8-494b-8009-ee3b330c0e8d",
      "cell_type": "code",
      "source": "np.mean(a)",
      "metadata": {
        "trusted": true
      },
      "outputs": [
        {
          "execution_count": 11,
          "output_type": "execute_result",
          "data": {
            "text/plain": "np.float64(2.0)"
          },
          "metadata": {}
        }
      ],
      "execution_count": 11
    },
    {
      "id": "aba61333-402d-4945-9cef-79ce71891a8f",
      "cell_type": "code",
      "source": "np.max(a)",
      "metadata": {
        "trusted": true
      },
      "outputs": [
        {
          "execution_count": 12,
          "output_type": "execute_result",
          "data": {
            "text/plain": "np.int32(3)"
          },
          "metadata": {}
        }
      ],
      "execution_count": 12
    },
    {
      "id": "8fce07c1-4378-4b44-9a46-69ac999d384b",
      "cell_type": "code",
      "source": "c=np.array([\n    [1,2],\n    [3,4]\n])",
      "metadata": {
        "trusted": true
      },
      "outputs": [],
      "execution_count": 15
    },
    {
      "id": "e6fd8f85-8cc7-4073-bb35-8a322830de42",
      "cell_type": "code",
      "source": "c",
      "metadata": {
        "trusted": true
      },
      "outputs": [
        {
          "execution_count": 16,
          "output_type": "execute_result",
          "data": {
            "text/plain": "array([[1, 2],\n       [3, 4]])"
          },
          "metadata": {}
        }
      ],
      "execution_count": 16
    },
    {
      "id": "6a413f1f-4eaa-48c7-829a-3e0e85bee52d",
      "cell_type": "code",
      "source": "d=np.array([\n    [4,8],\n    [6,9]\n])",
      "metadata": {
        "trusted": true
      },
      "outputs": [],
      "execution_count": 17
    },
    {
      "id": "0d0ec5e5-598d-40a2-bd1b-960a5004f24c",
      "cell_type": "code",
      "source": "c+d",
      "metadata": {
        "trusted": true
      },
      "outputs": [
        {
          "execution_count": 18,
          "output_type": "execute_result",
          "data": {
            "text/plain": "array([[ 5, 10],\n       [ 9, 13]])"
          },
          "metadata": {}
        }
      ],
      "execution_count": 18
    },
    {
      "id": "59715b60-25ec-4bcc-8e20-ec37ad9346d0",
      "cell_type": "code",
      "source": "c*d",
      "metadata": {
        "trusted": true
      },
      "outputs": [
        {
          "execution_count": 19,
          "output_type": "execute_result",
          "data": {
            "text/plain": "array([[ 4, 16],\n       [18, 36]])"
          },
          "metadata": {}
        }
      ],
      "execution_count": 19
    },
    {
      "id": "c3d321ca-a4fb-4616-81f7-727c330f419a",
      "cell_type": "code",
      "source": "a*b",
      "metadata": {
        "trusted": true
      },
      "outputs": [
        {
          "execution_count": 20,
          "output_type": "execute_result",
          "data": {
            "text/plain": "array([ 4, 10, 18])"
          },
          "metadata": {}
        }
      ],
      "execution_count": 20
    },
    {
      "id": "db227a2c-03df-4829-b7b2-74c697aa2386",
      "cell_type": "code",
      "source": "f=np.dot(c,d)\nf",
      "metadata": {
        "trusted": true
      },
      "outputs": [
        {
          "execution_count": 21,
          "output_type": "execute_result",
          "data": {
            "text/plain": "array([[16, 26],\n       [36, 60]])"
          },
          "metadata": {}
        }
      ],
      "execution_count": 21
    },
    {
      "id": "31d0c5eb-7e59-40b0-bcec-dfaa1dd217bd",
      "cell_type": "code",
      "source": "f.T",
      "metadata": {
        "trusted": true
      },
      "outputs": [
        {
          "execution_count": 23,
          "output_type": "execute_result",
          "data": {
            "text/plain": "array([[16, 36],\n       [26, 60]])"
          },
          "metadata": {}
        }
      ],
      "execution_count": 23
    },
    {
      "id": "b05474a1-b835-4add-9da5-96c6178fd064",
      "cell_type": "code",
      "source": " print(\"\\n Matrix 1:\\n\",c)\n print(\"\\n Matrix 2:\\n\",d)\n print(\"\\n Addition :\\n\",c+d)\n print(\"\\n Multiplication :\\n\",c*d)\n print(\"\\n DOT multiplication rowX column :\\n\",f)\n print(\"\\n Transpose :\\n\",f.T)",
      "metadata": {
        "trusted": true
      },
      "outputs": [
        {
          "name": "stdout",
          "output_type": "stream",
          "text": "\n Matrix 1:\n [[1 2]\n [3 4]]\n\n Matrix 2:\n [[4 8]\n [6 9]]\n\n Addition :\n [[ 5 10]\n [ 9 13]]\n\n Multiplication :\n [[ 4 16]\n [18 36]]\n\n DOT multiplication rowX column :\n [[16 26]\n [36 60]]\n\n Transpose :\n [[16 36]\n [26 60]]\n"
        }
      ],
      "execution_count": 24
    },
    {
      "id": "148ed364-a07c-47ca-95ae-7406ed0384f6",
      "cell_type": "code",
      "source": "",
      "metadata": {
        "trusted": true
      },
      "outputs": [],
      "execution_count": null
    }
  ]
}