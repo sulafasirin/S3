{
 "cells": [
  {
   "cell_type": "code",
   "execution_count": 1,
   "id": "71372286",
   "metadata": {},
   "outputs": [
    {
     "name": "stdout",
     "output_type": "stream",
     "text": [
      "Original matrix A:\n",
      " [[3 1]\n",
      " [1 3]]\n",
      "\n",
      "Matrix U (Left singular vectors):\n",
      " [[-0.70710678 -0.70710678]\n",
      " [-0.70710678  0.70710678]]\n",
      "\n",
      "Singular values (Sigma):\n",
      " [4. 2.]\n",
      "\n",
      "Matrix V^T (Right singular vectors transpose):\n",
      " [[-0.70710678 -0.70710678]\n",
      " [-0.70710678  0.70710678]]\n",
      "\n",
      "Diagonal matrix Sigma:\n",
      " [[4. 0.]\n",
      " [0. 2.]]\n",
      "\n",
      "Reconstructed matrix A (U * Sigma * V^T):\n",
      " [[3. 1.]\n",
      " [1. 3.]]\n"
     ]
    }
   ],
   "source": [
    "import numpy as np\n",
    "\n",
    "A = np.array([[3, 1],\n",
    "              [1, 3]])\n",
    "\n",
    "print(\"Original matrix A:\\n\", A)\n",
    "\n",
    "U, S, VT = np.linalg.svd(A)\n",
    "\n",
    "print(\"\\nMatrix U (Left singular vectors):\\n\", U)\n",
    "print(\"\\nSingular values (Sigma):\\n\", S)\n",
    "print(\"\\nMatrix V^T (Right singular vectors transpose):\\n\", VT)\n",
    "\n",
    "\n",
    "Sigma = np.zeros((A.shape[0], A.shape[1]))  \n",
    "np.fill_diagonal(Sigma, S)\n",
    "\n",
    "print(\"\\nDiagonal matrix Sigma:\\n\", Sigma)\n",
    "\n",
    "\n",
    "A_reconstructed = U @ Sigma @ VT\n",
    "\n",
    "print(\"\\nReconstructed matrix A (U * Sigma * V^T):\\n\", np.round(A_reconstructed, 2))"
   ]
  },
  {
   "cell_type": "code",
   "execution_count": null,
   "id": "25462dd5",
   "metadata": {},
   "outputs": [],
   "source": []
  }
 ],
 "metadata": {
  "kernelspec": {
   "display_name": "Python 3 (ipykernel)",
   "language": "python",
   "name": "python3"
  },
  "language_info": {
   "codemirror_mode": {
    "name": "ipython",
    "version": 3
   },
   "file_extension": ".py",
   "mimetype": "text/x-python",
   "name": "python",
   "nbconvert_exporter": "python",
   "pygments_lexer": "ipython3",
   "version": "3.9.7"
  }
 },
 "nbformat": 4,
 "nbformat_minor": 5
}
