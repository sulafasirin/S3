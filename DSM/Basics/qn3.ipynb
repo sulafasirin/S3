{
 "cells": [
  {
   "cell_type": "code",
   "execution_count": 6,
   "id": "33d8e98d",
   "metadata": {},
   "outputs": [
    {
     "name": "stdout",
     "output_type": "stream",
     "text": [
      "Array are equal: True\n",
      "Array are equal: False\n"
     ]
    }
   ],
   "source": [
    "import numpy as np\n",
    "\n",
    "a=np.array([1,2,3,4])\n",
    "b=np.array([1,2,3,4])\n",
    "c=np.array([1,2,4])\n",
    "print(\"Array are equal:\",np.array_equal(a,b))\n",
    "print(\"Array are equal:\",np.array_equal(a,c))"
   ]
  },
  {
   "cell_type": "code",
   "execution_count": 27,
   "id": "8e6eed42",
   "metadata": {},
   "outputs": [
    {
     "name": "stdout",
     "output_type": "stream",
     "text": [
      "Equal\n"
     ]
    }
   ],
   "source": [
    "def eq_array(a,b):\n",
    "    if len(a)!=len(b):\n",
    "        return False\n",
    "    for i in range(len(a)):\n",
    "        if a[i]!=b[i]:\n",
    "            return False\n",
    "    return True\n",
    "\n",
    "a=[1,2,3,4]\n",
    "b=[1,2,3,4]\n",
    "\n",
    "if eq_array(a,b):\n",
    "    print(\"Equal\")\n",
    "else:\n",
    "    print(\"Not equal\")"
   ]
  }
 ],
 "metadata": {
  "kernelspec": {
   "display_name": "Python 3 (ipykernel)",
   "language": "python",
   "name": "python3"
  },
  "language_info": {
   "codemirror_mode": {
    "name": "ipython",
    "version": 3
   },
   "file_extension": ".py",
   "mimetype": "text/x-python",
   "name": "python",
   "nbconvert_exporter": "python",
   "pygments_lexer": "ipython3",
   "version": "3.9.7"
  }
 },
 "nbformat": 4,
 "nbformat_minor": 5
}
